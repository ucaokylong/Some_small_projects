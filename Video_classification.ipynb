{
  "nbformat": 4,
  "nbformat_minor": 0,
  "metadata": {
    "colab": {
      "provenance": [],
      "gpuType": "T4",
      "authorship_tag": "ABX9TyOduNu2sBT8lbWD+3qEcHd1",
      "include_colab_link": true
    },
    "kernelspec": {
      "name": "python3",
      "display_name": "Python 3"
    },
    "language_info": {
      "name": "python"
    },
    "accelerator": "GPU"
  },
  "cells": [
    {
      "cell_type": "markdown",
      "metadata": {
        "id": "view-in-github",
        "colab_type": "text"
      },
      "source": [
        "<a href=\"https://colab.research.google.com/github/ucaokylong/Some_small_projects/blob/main/Video_classification.ipynb\" target=\"_parent\"><img src=\"https://colab.research.google.com/assets/colab-badge.svg\" alt=\"Open In Colab\"/></a>"
      ]
    },
    {
      "cell_type": "code",
      "source": [
        "%mkdir dataset\n",
        "%cd dataset\n",
        "!gdown 1N93rb_uFqKRZ9naX8CXShFt5RJHOmjZH\n",
        "!unzip -q rwf-2000.zip"
      ],
      "metadata": {
        "colab": {
          "base_uri": "https://localhost:8080/"
        },
        "id": "YJrQA3iCVXlf",
        "outputId": "cca7e277-51a5-48dd-b988-bb0d466f600d"
      },
      "execution_count": 1,
      "outputs": [
        {
          "output_type": "stream",
          "name": "stdout",
          "text": [
            "/content/dataset\n",
            "Downloading...\n",
            "From (original): https://drive.google.com/uc?id=1N93rb_uFqKRZ9naX8CXShFt5RJHOmjZH\n",
            "From (redirected): https://drive.google.com/uc?id=1N93rb_uFqKRZ9naX8CXShFt5RJHOmjZH&confirm=t&uuid=a63df0f3-116d-4a14-a4d9-a7e9b6ffb8c7\n",
            "To: /content/dataset/rwf-2000.zip\n",
            "100% 1.25G/1.25G [00:20<00:00, 61.3MB/s]\n"
          ]
        }
      ]
    },
    {
      "cell_type": "code",
      "execution_count": 9,
      "metadata": {
        "id": "odX4LOjGQUy8"
      },
      "outputs": [],
      "source": [
        "import os\n",
        "from PIL import Image\n",
        "import torch\n",
        "from torch.utils.data import Dataset\n",
        "\n",
        "class VideoDataset(Dataset):\n",
        "    def __init__(self, root_dir, phase=\"train\", transform=None, n_frames=None):\n",
        "        \"\"\"\n",
        "        Args:\n",
        "            root_dir (string): Directory with all the videos (each video as a subdirectory of frames).\n",
        "            transform (callable, optional): Optional transform to be applied on a sample.\n",
        "            n_frames (int, optional): Number of frames to sample from each video, uniformly. If None, use all frames.\n",
        "        \"\"\"\n",
        "        self.root_dir = root_dir\n",
        "        self.transform = transform\n",
        "        self.n_frames = n_frames\n",
        "        self.phase = phase\n",
        "        self.videos, self.labels = self._load_videos()\n",
        "\n",
        "    def _load_videos(self):\n",
        "        videos, labels = [], []\n",
        "        class_id = 0\n",
        "\n",
        "        video_folders = os.listdir(os.path.join(self.root_dir, self.phase))\n",
        "\n",
        "        for folder in video_folders:\n",
        "            video_paths = os.listdir(os.path.join(self.root_dir, self.phase, folder))\n",
        "\n",
        "            for video_path in video_paths:\n",
        "                video_folder = os.path.join(self.root_dir, self.phase, folder, video_path)\n",
        "                frames = sorted(\n",
        "                    (os.path.join(video_folder, f) for f in os.listdir(video_folder)),\n",
        "                    key=lambda f: int(\"\".join(filter(str.isdigit, os.path.basename(f)))),\n",
        "                )\n",
        "\n",
        "                if self.n_frames:\n",
        "                    frames = self._uniform_sample(frames, self.n_frames)\n",
        "\n",
        "                videos.append(frames)\n",
        "                labels.append(class_id)\n",
        "\n",
        "            class_id += 1\n",
        "\n",
        "        return videos, labels\n",
        "\n",
        "    def _uniform_sample(self, frames, n_frames):\n",
        "        \"\"\"\n",
        "        Helper method to uniformly sample n_frames from the frames list.\n",
        "        \"\"\"\n",
        "        stride = max(1, len(frames) // n_frames)\n",
        "        sampled = [frames[i] for i in range(0, len(frames), stride)]\n",
        "        return sampled[:n_frames]\n",
        "\n",
        "    def __len__(self):\n",
        "        return len(self.videos)\n",
        "\n",
        "    def __getitem__(self, idx):\n",
        "        video_frames = self.videos[idx]\n",
        "        label = self.labels[idx]\n",
        "        images = []\n",
        "        for frame_path in video_frames:\n",
        "            image = Image.open(frame_path).convert(\"RGB\")\n",
        "            if self.transform:\n",
        "                image = self.transform(image)\n",
        "            images.append(image)\n",
        "\n",
        "        # Stack images along new dimension (sequence length)\n",
        "        data = torch.stack(images, dim=0)\n",
        "\n",
        "        # Rearrange to have the shape (C, T, H, W)\n",
        "        data = data.permute(1, 0, 2, 3)\n",
        "        return data, label\n"
      ]
    },
    {
      "cell_type": "code",
      "source": [
        "!pip install video_dataset"
      ],
      "metadata": {
        "colab": {
          "base_uri": "https://localhost:8080/"
        },
        "id": "70a3JP9zpHl1",
        "outputId": "9789f96e-b2be-42bf-a595-7a3a939d0332"
      },
      "execution_count": 7,
      "outputs": [
        {
          "output_type": "stream",
          "name": "stdout",
          "text": [
            "\u001b[31mERROR: Could not find a version that satisfies the requirement video_dataset (from versions: none)\u001b[0m\u001b[31m\n",
            "\u001b[0m\u001b[31mERROR: No matching distribution found for video_dataset\u001b[0m\u001b[31m\n",
            "\u001b[0m"
          ]
        }
      ]
    },
    {
      "cell_type": "code",
      "source": [],
      "metadata": {
        "id": "9-c6qKgPpHpS"
      },
      "execution_count": null,
      "outputs": []
    },
    {
      "cell_type": "code",
      "source": [
        "import os\n",
        "from torchvision import transforms\n",
        "from torch.utils.data import DataLoader\n",
        "# from video_dataset import VideoDataset  # Ensure this matches the file name where VideoDataset is defined\n",
        "\n",
        "# Constants\n",
        "BATCH_SIZE = 16\n",
        "MAX_LEN = 15\n",
        "IMAGE_SIZE = 224\n",
        "\n",
        "# Define transformations\n",
        "transform = transforms.Compose([\n",
        "    transforms.Resize((IMAGE_SIZE, IMAGE_SIZE)),\n",
        "    transforms.ToTensor(),\n",
        "])\n",
        "\n",
        "# Load dataset\n",
        "train_dataset = VideoDataset(\n",
        "    root_dir=\"/content/dataset/rwf-2000\", phase=\"train\", transform=transform, n_frames=MAX_LEN\n",
        ")\n",
        "\n",
        "val_dataset = VideoDataset(\n",
        "    root_dir=\"/content/dataset/rwf-2000\", phase=\"val\", transform=transform, n_frames=MAX_LEN\n",
        ")\n",
        "\n",
        "# Count number of CPUs\n",
        "cpus = os.cpu_count()\n",
        "print(f\"Number of CPUs: {cpus}\")\n",
        "\n",
        "# Create data loaders\n",
        "train_loader = DataLoader(\n",
        "    train_dataset, batch_size=BATCH_SIZE, num_workers=cpus, shuffle=True\n",
        ")\n",
        "val_loader = DataLoader(\n",
        "    val_dataset, batch_size=BATCH_SIZE, num_workers=cpus, shuffle=False\n",
        ")\n"
      ],
      "metadata": {
        "colab": {
          "base_uri": "https://localhost:8080/"
        },
        "id": "BiMINnKRVXpq",
        "outputId": "e43751ba-2c30-4d70-ae7d-6ed1a107bc3e"
      },
      "execution_count": 10,
      "outputs": [
        {
          "output_type": "stream",
          "name": "stdout",
          "text": [
            "Number of CPUs: 2\n"
          ]
        }
      ]
    },
    {
      "cell_type": "code",
      "source": [
        "#SINGLE FRAME\n",
        "import torch\n",
        "import torch.nn as nn\n",
        "import torch.nn.functional as F\n",
        "from torchvision.models import resnet18\n",
        "\n",
        "class Model(nn.Module):\n",
        "    def __init__(self, num_classes=2):\n",
        "        super(Model, self).__init__()\n",
        "        self.resnet = resnet18(pretrained=True)\n",
        "        self.resnet.fc = nn.Sequential(nn.Linear(self.resnet.fc.in_features, 512))\n",
        "        self.fc1 = nn.Linear(512, 128)\n",
        "        self.fc2 = nn.Linear(128, num_classes)\n",
        "\n",
        "    def forward(self, x_3d):\n",
        "        # (bs, C, T, H, W) -> (bs, T, C, H, W)\n",
        "        x_3d = x_3d.permute(0, 2, 1, 3, 4)\n",
        "\n",
        "        logits = []\n",
        "        for t in range(x_3d.size(1)):\n",
        "            out = self.resnet(x_3d[:, t, :, :, :])\n",
        "\n",
        "            x = self.fc1(out)\n",
        "            x = F.relu(x)\n",
        "            x = self.fc2(x)\n",
        "\n",
        "            logits.append(x)\n",
        "\n",
        "        # mean pooling\n",
        "        logits = torch.stack(logits, dim=0)\n",
        "        logits = torch.mean(logits, dim=0)\n",
        "        return logits\n"
      ],
      "metadata": {
        "id": "o7VkqNObgJ4-"
      },
      "execution_count": 11,
      "outputs": []
    },
    {
      "cell_type": "code",
      "source": [
        "#LATE FUSION\n",
        "import torch\n",
        "import torch.nn as nn\n",
        "import torch.nn.functional as F\n",
        "from torchvision.models import resnet18\n",
        "\n",
        "class Model(nn.Module):\n",
        "    def __init__(self, num_classes=2):\n",
        "        super(Model, self).__init__()\n",
        "        self.resnet = resnet18(pretrained=True)\n",
        "        self.resnet.fc = nn.Sequential(\n",
        "            nn.Linear(self.resnet.fc.in_features, 512)\n",
        "        )\n",
        "        self.fc1 = nn.Linear(512, 128)\n",
        "        self.fc2 = nn.Linear(128, num_classes)\n",
        "\n",
        "    def forward(self, x_3d):\n",
        "        # (bs, C, T, H, W) -> (bs, T, C, H, W)\n",
        "        x_3d = x_3d.permute(0, 2, 1, 3, 4)\n",
        "\n",
        "        features = []\n",
        "        for t in range(x_3d.size(1)):\n",
        "            out = self.resnet(x_3d[:, t, :, :, :])\n",
        "            features.append(out)\n",
        "\n",
        "        # average pooling\n",
        "        out = torch.mean(torch.stack(features), dim=0)\n",
        "\n",
        "        x = self.fc1(out)\n",
        "        x = F.relu(x)\n",
        "        x = self.fc2(x)\n",
        "        return x\n"
      ],
      "metadata": {
        "id": "d4iEXTZTgJ74"
      },
      "execution_count": 12,
      "outputs": []
    },
    {
      "cell_type": "code",
      "source": [
        "#EARLY FUSION\n",
        "import torch\n",
        "import torch.nn as nn\n",
        "import torch.nn.functional as F\n",
        "from torchvision.models import resnet18\n",
        "\n",
        "class Model(nn.Module):\n",
        "    def __init__(self, num_classes=2, num_input_channel=48):\n",
        "        super(Model, self).__init__()\n",
        "        self.resnet = resnet18(pretrained=True)\n",
        "\n",
        "        # Modify the first convolutional layer to accommodate the custom number of input channels\n",
        "        self.resnet.conv1 = nn.Conv2d(\n",
        "            num_input_channel, 64, kernel_size=7, stride=2, padding=3, bias=False\n",
        "        )\n",
        "\n",
        "        # Replace the fully connected layer with a custom one\n",
        "        self.resnet.fc = nn.Sequential(\n",
        "            nn.Linear(self.resnet.fc.in_features, 512)\n",
        "        )\n",
        "\n",
        "        # Additional fully connected layers\n",
        "        self.fc1 = nn.Linear(512, 128)\n",
        "        self.fc2 = nn.Linear(128, num_classes)\n",
        "\n",
        "    def forward(self, x_3d):\n",
        "        # Input shape: (batch_size, channels, time, height, width)\n",
        "        # Permute to: (batch_size, time, channels, height, width)\n",
        "        x_3d = x_3d.permute(0, 2, 1, 3, 4).contiguous()\n",
        "\n",
        "        # Reshape to: (batch_size, time * channels, height, width)\n",
        "        x_3d = x_3d.view(\n",
        "            x_3d.size(0), x_3d.size(1) * x_3d.size(2), x_3d.size(3), x_3d.size(4)\n",
        "        )\n",
        "\n",
        "        # Pass through the modified ResNet18 model\n",
        "        out = self.resnet(x_3d)\n",
        "\n",
        "        # Fully connected layers\n",
        "        x = self.fc1(out)\n",
        "        x = F.relu(x)\n",
        "        x = self.fc2(x)\n",
        "\n",
        "        return x\n"
      ],
      "metadata": {
        "id": "-unoFrP9gVWg"
      },
      "execution_count": 4,
      "outputs": []
    },
    {
      "cell_type": "code",
      "source": [
        "#LSTM-CNN\n",
        "import torch\n",
        "import torch.nn as nn\n",
        "import torch.nn.functional as F\n",
        "from torchvision.models import resnet18\n",
        "\n",
        "class Model(nn.Module):\n",
        "    def __init__(self, num_classes=2):\n",
        "        super(Model, self).__init__()\n",
        "        self.resnet = resnet18(pretrained=True)\n",
        "\n",
        "        # Replace the final fully connected layer of ResNet18\n",
        "        self.resnet.fc = nn.Sequential(\n",
        "            nn.Linear(self.resnet.fc.in_features, 512)\n",
        "        )\n",
        "\n",
        "        # Define an LSTM layer\n",
        "        self.lstm = nn.LSTM(input_size=512, hidden_size=389, num_layers=3)\n",
        "\n",
        "        # Define additional fully connected layers\n",
        "        self.fc1 = nn.Linear(389, 128)\n",
        "        self.fc2 = nn.Linear(128, num_classes)\n",
        "\n",
        "    def forward(self, x_3d):\n",
        "        # Input shape: (batch_size, channels, time, height, width)\n",
        "        # Permute to: (batch_size, time, channels, height, width)\n",
        "        x_3d = x_3d.permute(0, 2, 1, 3, 4)\n",
        "\n",
        "        hidden = None\n",
        "        for t in range(x_3d.size(1)):\n",
        "            # Pass each frame through the ResNet model\n",
        "            x = self.resnet(x_3d[:, t, :, :, :])\n",
        "\n",
        "            # Pass the output through the LSTM\n",
        "            out, hidden = self.lstm(x.unsqueeze(0), hidden)\n",
        "\n",
        "        # Take the last output of the LSTM\n",
        "        x = self.fc1(out[-1, :, :])\n",
        "        x = F.relu(x)\n",
        "        x = self.fc2(x)\n",
        "\n",
        "        return x\n"
      ],
      "metadata": {
        "id": "QgdFlndHgVZE"
      },
      "execution_count": null,
      "outputs": []
    },
    {
      "cell_type": "code",
      "source": [
        "#VISION TRANSFORMER\n",
        "import torch.nn as nn\n",
        "from transformers import VivitConfig, VivitForVideoClassification\n",
        "\n",
        "class Model(nn.Module):\n",
        "    def __init__(self, num_classes=2, image_size=224, num_frames=15):\n",
        "        super(Model, self).__init__()\n",
        "\n",
        "        # Initialize Vivit configuration\n",
        "        cfg = VivitConfig()\n",
        "        cfg.num_classes = num_classes\n",
        "        cfg.image_size = image_size\n",
        "        cfg.num_frames = num_frames\n",
        "\n",
        "        # Load pre-trained Vivit model for video classification\n",
        "        self.vivit = VivitForVideoClassification.from_pretrained(\n",
        "            \"google/vivit-b-16x2-kinetics400\",\n",
        "            config=cfg,\n",
        "            ignore_mismatched_sizes=True\n",
        "        )\n",
        "\n",
        "    def forward(self, x_3d):\n",
        "        # Input shape: (batch_size, channels, time, height, width)\n",
        "        # Permute to: (batch_size, time, channels, height, width)\n",
        "        x_3d = x_3d.permute(0, 2, 1, 3, 4)\n",
        "\n",
        "        # Pass the permuted tensor through the Vivit model\n",
        "        out = self.vivit(x_3d)\n",
        "\n",
        "        # Return the logits from the Vivit model's output\n",
        "        return out.logits\n"
      ],
      "metadata": {
        "id": "YGCDDbTChchJ"
      },
      "execution_count": null,
      "outputs": []
    },
    {
      "cell_type": "code",
      "source": [],
      "metadata": {
        "id": "c93arunEgVby"
      },
      "execution_count": null,
      "outputs": []
    },
    {
      "cell_type": "code",
      "source": [],
      "metadata": {
        "id": "grlbup2wgJ-t"
      },
      "execution_count": null,
      "outputs": []
    }
  ]
}